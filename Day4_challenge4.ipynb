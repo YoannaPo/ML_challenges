{
 "cells": [
  {
   "cell_type": "code",
   "execution_count": 36,
   "metadata": {},
   "outputs": [],
   "source": [
    "import pandas as pd\n",
    "\n",
    "from gensim.utils import simple_preprocess\n",
    "from gensim.models import Word2Vec\n",
    "\n",
    "#this gives us phrases\n",
    "from gensim.models.phrases import Phrases, Phraser\n",
    "\n",
    "from ast import literal_eval"
   ]
  },
  {
   "cell_type": "code",
   "execution_count": 3,
   "metadata": {},
   "outputs": [
    {
     "name": "stdout",
     "output_type": "stream",
     "text": [
      " Volume in drive C has no label.\n",
      " Volume Serial Number is 16EE-C352\n",
      "\n",
      " Directory of C:\\Users\\user\n",
      "\n",
      "\n",
      " Directory of C:\\Users\\user\\data\n",
      "\n",
      "01/10/2019  14:01    <DIR>          .\n",
      "01/10/2019  14:01    <DIR>          ..\n",
      "16/09/2019  14:01       133,415,034 job_ofer.csv\n",
      "12/09/2019  23:04       240,342,787 reviews_data.txt\n",
      "               2 File(s)    373,757,821 bytes\n",
      "               2 Dir(s)  63,119,589,376 bytes free\n"
     ]
    },
    {
     "name": "stderr",
     "output_type": "stream",
     "text": [
      "File Not Found\n"
     ]
    }
   ],
   "source": [
    "ls -lh data"
   ]
  },
  {
   "cell_type": "code",
   "execution_count": 4,
   "metadata": {},
   "outputs": [
    {
     "data": {
      "text/plain": [
       "(36109, 8)"
      ]
     },
     "execution_count": 4,
     "metadata": {},
     "output_type": "execute_result"
    }
   ],
   "source": [
    "df = pd.read_csv('data/job_ofer.csv')\n",
    "df.shape"
   ]
  },
  {
   "cell_type": "code",
   "execution_count": 5,
   "metadata": {},
   "outputs": [
    {
     "data": {
      "text/html": [
       "<div>\n",
       "<style scoped>\n",
       "    .dataframe tbody tr th:only-of-type {\n",
       "        vertical-align: middle;\n",
       "    }\n",
       "\n",
       "    .dataframe tbody tr th {\n",
       "        vertical-align: top;\n",
       "    }\n",
       "\n",
       "    .dataframe thead th {\n",
       "        text-align: right;\n",
       "    }\n",
       "</style>\n",
       "<table border=\"1\" class=\"dataframe\">\n",
       "  <thead>\n",
       "    <tr style=\"text-align: right;\">\n",
       "      <th></th>\n",
       "      <th>title</th>\n",
       "      <th>company_name</th>\n",
       "      <th>address</th>\n",
       "      <th>description</th>\n",
       "      <th>seniority_level</th>\n",
       "      <th>employment_type</th>\n",
       "      <th>job_function</th>\n",
       "      <th>industries</th>\n",
       "    </tr>\n",
       "  </thead>\n",
       "  <tbody>\n",
       "    <tr>\n",
       "      <th>0</th>\n",
       "      <td>Machine Learning Engineer</td>\n",
       "      <td>Intellipro Group Inc</td>\n",
       "      <td>Palo Alto, CA, US</td>\n",
       "      <td>['About The Company', \"W*** is reshaping the f...</td>\n",
       "      <td>Entry level</td>\n",
       "      <td>Full-time</td>\n",
       "      <td>Engineering</td>\n",
       "      <td>Information Technology and Services</td>\n",
       "    </tr>\n",
       "    <tr>\n",
       "      <th>1</th>\n",
       "      <td>Deep Learning Applied Researcher - Chicago</td>\n",
       "      <td>Ethosia</td>\n",
       "      <td>Chicago, IL, US</td>\n",
       "      <td>['תיאור המשרה', 'Deep learning for Computer Vi...</td>\n",
       "      <td>Associate</td>\n",
       "      <td>Full-time</td>\n",
       "      <td>Other</td>\n",
       "      <td>Information Technology and Services</td>\n",
       "    </tr>\n",
       "    <tr>\n",
       "      <th>2</th>\n",
       "      <td>Machine Learning Engineer</td>\n",
       "      <td>Motorola Solutions</td>\n",
       "      <td>Chicago, IL, US</td>\n",
       "      <td>['Company Overview', 'At Motorola Solutions, w...</td>\n",
       "      <td>Entry level</td>\n",
       "      <td>Full-time</td>\n",
       "      <td>Engineering</td>\n",
       "      <td>Information Technology and Services</td>\n",
       "    </tr>\n",
       "    <tr>\n",
       "      <th>3</th>\n",
       "      <td>Machine Learning / Data Scientist</td>\n",
       "      <td>Proprius LLC</td>\n",
       "      <td>San Francisco, CA, US</td>\n",
       "      <td>['Our client is a digital invention agency foc...</td>\n",
       "      <td>Entry level</td>\n",
       "      <td>Full-time</td>\n",
       "      <td>Engineering</td>\n",
       "      <td>Information Technology and Services</td>\n",
       "    </tr>\n",
       "    <tr>\n",
       "      <th>4</th>\n",
       "      <td>Cloud Architect</td>\n",
       "      <td>TCS</td>\n",
       "      <td>Framingham, Massachusetts, United States</td>\n",
       "      <td>['Technical/Functional Skills', ' ', 'Good to ...</td>\n",
       "      <td>Mid-Senior level</td>\n",
       "      <td>Full-time</td>\n",
       "      <td>Engineering</td>\n",
       "      <td>Information Technology and Services</td>\n",
       "    </tr>\n",
       "  </tbody>\n",
       "</table>\n",
       "</div>"
      ],
      "text/plain": [
       "                                        title          company_name  \\\n",
       "0                   Machine Learning Engineer  Intellipro Group Inc   \n",
       "1  Deep Learning Applied Researcher - Chicago               Ethosia   \n",
       "2                   Machine Learning Engineer    Motorola Solutions   \n",
       "3           Machine Learning / Data Scientist          Proprius LLC   \n",
       "4                             Cloud Architect                   TCS   \n",
       "\n",
       "                                    address  \\\n",
       "0                         Palo Alto, CA, US   \n",
       "1                           Chicago, IL, US   \n",
       "2                           Chicago, IL, US   \n",
       "3                     San Francisco, CA, US   \n",
       "4  Framingham, Massachusetts, United States   \n",
       "\n",
       "                                         description   seniority_level  \\\n",
       "0  ['About The Company', \"W*** is reshaping the f...       Entry level   \n",
       "1  ['תיאור המשרה', 'Deep learning for Computer Vi...         Associate   \n",
       "2  ['Company Overview', 'At Motorola Solutions, w...       Entry level   \n",
       "3  ['Our client is a digital invention agency foc...       Entry level   \n",
       "4  ['Technical/Functional Skills', ' ', 'Good to ...  Mid-Senior level   \n",
       "\n",
       "  employment_type job_function                           industries  \n",
       "0       Full-time  Engineering  Information Technology and Services  \n",
       "1       Full-time        Other  Information Technology and Services  \n",
       "2       Full-time  Engineering  Information Technology and Services  \n",
       "3       Full-time  Engineering  Information Technology and Services  \n",
       "4       Full-time  Engineering  Information Technology and Services  "
      ]
     },
     "execution_count": 5,
     "metadata": {},
     "output_type": "execute_result"
    }
   ],
   "source": [
    "df.head()"
   ]
  },
  {
   "cell_type": "markdown",
   "metadata": {},
   "source": [
    "# Word2Vec"
   ]
  },
  {
   "cell_type": "code",
   "execution_count": 6,
   "metadata": {},
   "outputs": [],
   "source": [
    "corpus = df['title'].map( simple_preprocess )"
   ]
  },
  {
   "cell_type": "code",
   "execution_count": 7,
   "metadata": {},
   "outputs": [],
   "source": [
    "model = Word2Vec(corpus, size=100, window=2, min_count=1)"
   ]
  },
  {
   "cell_type": "code",
   "execution_count": 8,
   "metadata": {},
   "outputs": [
    {
     "data": {
      "text/plain": [
       "[('deep', 0.9546080827713013),\n",
       " ('captivate', 0.8814845085144043),\n",
       " ('edge', 0.880230188369751),\n",
       " ('inference', 0.8531221151351929),\n",
       " ('hux', 0.8491808176040649),\n",
       " ('natural', 0.8458027839660645),\n",
       " ('computer', 0.8425424098968506),\n",
       " ('applied', 0.8341013789176941),\n",
       " ('nlp', 0.8311324119567871),\n",
       " ('big', 0.8294161558151245)]"
      ]
     },
     "execution_count": 8,
     "metadata": {},
     "output_type": "execute_result"
    }
   ],
   "source": [
    "model.wv.most_similar('machine')"
   ]
  },
  {
   "cell_type": "markdown",
   "metadata": {},
   "source": [
    "# Example"
   ]
  },
  {
   "cell_type": "code",
   "execution_count": 9,
   "metadata": {},
   "outputs": [
    {
     "data": {
      "text/plain": [
       "['machine_learning', 'c']"
      ]
     },
     "execution_count": 9,
     "metadata": {},
     "output_type": "execute_result"
    }
   ],
   "source": [
    "corpus = [\n",
    "    ['machine', 'learning', 'c'],\n",
    "    ['machine', 'learning', 'x'],\n",
    "    ['y', 'machine', 'learning', 'w'],\n",
    "    ['q', 'machine', 'learning', 'u', 'k'],\n",
    "]\n",
    "bigram = Phraser( Phrases(corpus, min_count=1, threshold=1) )\n",
    "\n",
    "#We connect macine and learning into  1 word machine_learning\n",
    "bigram[ ['machine', 'learning', 'c'] ]"
   ]
  },
  {
   "cell_type": "markdown",
   "metadata": {},
   "source": [
    "# Title + phrases"
   ]
  },
  {
   "cell_type": "code",
   "execution_count": 10,
   "metadata": {},
   "outputs": [],
   "source": [
    "#For one sentence\n",
    "title_corpus = df['title'].map( simple_preprocess )\n",
    "\n",
    "title_bigram = Phraser( Phrases(title_corpus, min_count=1, threshold=1) )"
   ]
  },
  {
   "cell_type": "code",
   "execution_count": 11,
   "metadata": {},
   "outputs": [
    {
     "data": {
      "text/plain": [
       "['machine_learning', 'engineer']"
      ]
     },
     "execution_count": 11,
     "metadata": {},
     "output_type": "execute_result"
    }
   ],
   "source": [
    "title_bigram[simple_preprocess('Machine Learning Engineer')]"
   ]
  },
  {
   "cell_type": "code",
   "execution_count": 12,
   "metadata": {},
   "outputs": [],
   "source": [
    "title_corpus_phrase = [ title_bigram[sent] for sent in title_corpus ]\n",
    "model = Word2Vec(title_corpus_phrase, size=100, window=2, min_count=1)"
   ]
  },
  {
   "cell_type": "code",
   "execution_count": 13,
   "metadata": {},
   "outputs": [
    {
     "data": {
      "text/plain": [
       "[('it_sr', 0.9582561254501343),\n",
       " ('assistant_general', 0.9555681943893433),\n",
       " ('night', 0.9554369449615479),\n",
       " ('product_insights', 0.9544827938079834),\n",
       " ('ft_am', 0.9541812539100647),\n",
       " ('engineer_ios', 0.9533193111419678),\n",
       " ('millwright', 0.9531430006027222),\n",
       " ('automotive_guest', 0.9524208903312683),\n",
       " ('berlin_nj', 0.9523929953575134),\n",
       " ('midwest', 0.9523296356201172)]"
      ]
     },
     "execution_count": 13,
     "metadata": {},
     "output_type": "execute_result"
    }
   ],
   "source": [
    "model.wv.most_similar('machine')"
   ]
  },
  {
   "cell_type": "code",
   "execution_count": 14,
   "metadata": {},
   "outputs": [],
   "source": [
    "def prepare_corpus(corpus, bigram):\n",
    "    for sent in corpus:\n",
    "        yield bigram[sent] + sent\n",
    "    "
   ]
  },
  {
   "cell_type": "code",
   "execution_count": 15,
   "metadata": {},
   "outputs": [],
   "source": [
    "ext_corp = list(prepare_corpus(title_corpus, title_bigram))\n",
    "title_model = Word2Vec( ext_corp, size=100, window=2, min_count=1 )"
   ]
  },
  {
   "cell_type": "code",
   "execution_count": 17,
   "metadata": {},
   "outputs": [
    {
     "data": {
      "text/plain": [
       "[('computer_vision', 0.9892956018447876),\n",
       " ('deep_learning', 0.9813571572303772),\n",
       " ('learning', 0.9808920621871948),\n",
       " ('deep', 0.9798362255096436),\n",
       " ('rockville', 0.9718903303146362),\n",
       " ('nlp', 0.9709010720252991),\n",
       " ('artificial_intelligence', 0.9676969051361084),\n",
       " ('computer', 0.966477632522583),\n",
       " ('data_engineer', 0.9654456377029419),\n",
       " ('ad_tech', 0.9651151895523071)]"
      ]
     },
     "execution_count": 17,
     "metadata": {},
     "output_type": "execute_result"
    }
   ],
   "source": [
    "title_model.wv.most_similar('machine_learning')"
   ]
  },
  {
   "cell_type": "markdown",
   "metadata": {},
   "source": [
    "# Description"
   ]
  },
  {
   "cell_type": "code",
   "execution_count": 32,
   "metadata": {},
   "outputs": [],
   "source": [
    "descr_corpus = df['description'].map( simple_preprocess )\n",
    "\n",
    "descr_bigram = Phraser( Phrases(descr_corpus, min_count=2, threshold=1) )"
   ]
  },
  {
   "cell_type": "code",
   "execution_count": 33,
   "metadata": {},
   "outputs": [],
   "source": [
    "#simple_preprocess( df.sample()['description'].values[0] )\n",
    "#ext_descr_corp = list(prepare_corpus(descr_corpus, descr_bigram))\n",
    "descr_model = Word2Vec( descr_corpus, size=100, window=2, min_count=1 )"
   ]
  },
  {
   "cell_type": "code",
   "execution_count": 34,
   "metadata": {},
   "outputs": [
    {
     "data": {
      "text/plain": [
       "[('pytorch', 0.9520508646965027),\n",
       " ('tensorflow', 0.9489986896514893),\n",
       " ('theano', 0.9453537464141846),\n",
       " ('caffe', 0.9411250352859497),\n",
       " ('scipy', 0.9253391027450562),\n",
       " ('mxnet', 0.916308581829071),\n",
       " ('numpy', 0.9135805368423462),\n",
       " ('matplotlib', 0.8863964676856995),\n",
       " ('jupyter', 0.8830247521400452),\n",
       " ('sklearn', 0.8815372586250305)]"
      ]
     },
     "execution_count": 34,
     "metadata": {},
     "output_type": "execute_result"
    }
   ],
   "source": [
    "descr_model.wv.most_similar('keras')"
   ]
  },
  {
   "cell_type": "code",
   "execution_count": 35,
   "metadata": {},
   "outputs": [
    {
     "data": {
      "text/plain": [
       "[('massage_therapist', 0.99440598487854),\n",
       " ('bristol_oxford', 0.9940013289451599),\n",
       " ('des', 0.9939993619918823),\n",
       " ('consultant_sap', 0.9937916994094849),\n",
       " ('de', 0.9934953451156616),\n",
       " ('staff_nurse', 0.9934335947036743),\n",
       " ('nurse_lpn', 0.9933348894119263),\n",
       " ('hrs_per', 0.9932541847229004),\n",
       " ('deer', 0.9932483434677124),\n",
       " ('six_sigma', 0.9932183027267456)]"
      ]
     },
     "execution_count": 35,
     "metadata": {},
     "output_type": "execute_result"
    }
   ],
   "source": [
    "title_model.wv.most_similar('keras')"
   ]
  },
  {
   "cell_type": "code",
   "execution_count": 39,
   "metadata": {},
   "outputs": [
    {
     "name": "stdout",
     "output_type": "stream",
     "text": [
      "What We Do\n",
      "\n",
      "NFF works toward a more just and vibrant society through:\n",
      "\n",
      "Financing \n",
      "\n",
      "that helps nonprofits and social enterprises expand opportunity in low- and middle-income communities.\n",
      "\n",
      "Consulting \n",
      "\n",
      "that helps nonprofits and funders connect money to mission and community impact.\n",
      "\n",
      "Partnering \n",
      "\n",
      "with service providers, funders, and investors to turn money and goodwill into positive outcomes.\n",
      "\n",
      "Learning \n",
      "\n",
      "that shares experiences and expertise – from ideas to anecdotes to cutting-edge data and analysis.\n",
      "\n",
      "Nonprofit Finance Fund® (NFF®) advances missions and social progress in underserved communities through financing, consulting, partnerships, and knowledge-sharing. A leading Community Development Financial Institution (CDFI), NFF currently manages over $329 million. Since 1980, we have provided $871 million in financing and access to additional capital in support of over $2.9 billion in projects for thousands of organizations nationwide.\n",
      "\n",
      "Position Summary\n",
      "\n",
      "The Advisory Services team is seeking to hire an Analyst. Advisory Services Analysts support the delivery of NFF's services to social sector clients and serve as an integral member of the team. As an entry-level position, Analysts engage a wide cross-section of the team and work closely with practice managers and senior consultants by providing project management and analyses of quantitative and qualitative data.\n",
      "\n",
      "The NFF Advisory Practice is a fast-paced environment, and Analysts help to manage a substantial portfolio of work. Successful Analysts exercise excellent time and task management skills; work efficiently within a team structure; communicate in a clear, compelling, and accessible manner; exhibit a high level of individual accountability, and embody NFF Values in all tasks and responsibilities.\n",
      "\n",
      "This position will be based in NFF's New York, NY office. This position will report to the Manager, Advisory Services.\n",
      "\n",
      "Primary Duties And Responsibilities\n",
      "\n",
      " \n",
      "\n",
      "Work with the Advisory Services Operations, Initiative, and Knowledge teams to support rigorous systems and data management, capacity and workflow management, and organizational learning.\n",
      "\n",
      " \n",
      "\n",
      "Support initiatives by working closely with senior consultants to plan and manage project work plans, timelines, and deliverables. Manage client communications and client information/data capture, as well as track and manage progress against budget, capacity, and delivery targets.\n",
      "\n",
      " \n",
      "\n",
      "Conduct financial analyses, organizational assessments, and sector research. Synthesize analyses into observations about the financial health and performance of NFF's clients and the social sector.\n",
      "\n",
      " \n",
      "\n",
      "Organize and synthesize knowledge-related documents and track new content or tools in development.\n",
      "\n",
      " \n",
      "\n",
      "Contribute to high-quality client deliverables, including PPT presentations, engagement memos, research reports, and workshop/training curriculum.\n",
      "\n",
      " \n",
      "\n",
      "Perform other duties as assigned.\n",
      "\n",
      " \n",
      "\n",
      "Essential Requirements For Education And/or Experience\n",
      "\n",
      " \n",
      "\n",
      "This is an entry-level position.\n",
      "\n",
      " \n",
      "\n",
      "Professional maturity and ability to build relationships with colleagues, clients, funders, board members, and leaders in the field in a way that is consistent with NFF Values: Equity in Action, Generosity of Spirit, Rigor without Attitude, Responsiveness and Leading by Doing (For more information on the NFF Values, visit: https://nff.org/page/our-values).\n",
      "\n",
      " \n",
      "\n",
      "The position requires close coordination between multiple divisions within Advisory Services (Operations/Knowledge/Client Services Delivery/Business Development). As such, the applicant must have strong communication skills and an ability to work closely with their manager and other Analysts to meet a broad range of responsibilities.\n",
      "\n",
      " \n",
      "\n",
      "The ability to analyze, synthesize, and present complex data and information in an accessible manner.\n",
      "\n",
      " \n",
      "\n",
      "Project management skills and familiarity with the development of work plans and Gantt Chart project plans.\n",
      "\n",
      " \n",
      "\n",
      "Time management, attention to detail, and multi-tasking abilities.\n",
      "\n",
      " \n",
      "\n",
      "Proficiency in Excel, Word, and PowerPoint.\n",
      "\n",
      " \n",
      "\n",
      "Self-starter with the ability to work independently as well as collaborate with a close-knit group of professionals.\n",
      "\n",
      " \n",
      "\n",
      "Interest and ability to travel nationally, year-round, up to 15% of the time.\n",
      "\n",
      " \n",
      "\n",
      "Demonstrated interest in the social sector and an openness to learning about new things.\n",
      "\n",
      " \n",
      "\n",
      "Flexible, curious, creative, and enthusiastic, with a sense of humor.\n",
      "\n",
      " \n",
      "\n",
      "Specialized Knowledge/Beneficial Skills And Experience\n",
      "\n",
      " \n",
      "\n",
      "Prior experience with SharePoint, Salesforce, and/or Microsoft BI.\n",
      "\n",
      " \n",
      "\n",
      "Facility with nonprofit accounting, finance, financial model building, and/or statistics.\n",
      "\n",
      " \n",
      "\n",
      "All salaries are commensurate with experience and include an attractive benefits package.\n",
      "\n",
      "Nonprofit Finance Fund is committed to diversity, equity, and inclusion in its workforce. Diverse candidates are encouraged to apply.\n",
      "\n",
      "NFF is an equal opportunity employer and does not discriminate against any applicant or employee because of race, color, religion, sex, national origin, disability, genetic information, age, or military or veteran status in accordance with federal law. In addition, NFF complies with applicable state and local laws governing non-discrimination in employment in every jurisdiction in which it maintains facilities. NFF also provides reasonable accommodation to qualified individuals with disabilities in accordance with applicable laws.\n",
      "\n",
      "This job posting provides a general list of the essential responsibilities and qualifications required for this position. It does not represent a contract for employment and NFF reserves the right to change the description and/or posting at any time without notice.\n",
      "\n",
      "When applying, please DO NOT include any of the following information with your job application: Social Security number; driver's license number or state-issued identification card number; financial account number, or credit or debit card number.\n",
      "\n",
      "6ikCrSIWnP\n",
      "\n"
     ]
    }
   ],
   "source": [
    "for line in df.sample()['description'].map(literal_eval).values[0]:\n",
    "    print(line)\n",
    "    print(\"\")"
   ]
  },
  {
   "cell_type": "code",
   "execution_count": null,
   "metadata": {},
   "outputs": [],
   "source": []
  }
 ],
 "metadata": {
  "kernelspec": {
   "display_name": "Python 3",
   "language": "python",
   "name": "python3"
  },
  "language_info": {
   "codemirror_mode": {
    "name": "ipython",
    "version": 3
   },
   "file_extension": ".py",
   "mimetype": "text/x-python",
   "name": "python",
   "nbconvert_exporter": "python",
   "pygments_lexer": "ipython3",
   "version": "3.7.1"
  }
 },
 "nbformat": 4,
 "nbformat_minor": 2
}
